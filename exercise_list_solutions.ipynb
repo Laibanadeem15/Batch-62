{
 "cells": [
  {
   "cell_type": "code",
   "execution_count": 1,
   "metadata": {},
   "outputs": [
    {
     "name": "stdout",
     "output_type": "stream",
     "text": [
      "['Ali', 'Obaid', 'Rabi', 'Uswa']\n"
     ]
    }
   ],
   "source": [
    "#Exercise 3-1: Names\n",
    "names: list =['Ali','Obaid','Rabi','Uswa']\n",
    "print(names)"
   ]
  },
  {
   "cell_type": "code",
   "execution_count": 6,
   "metadata": {},
   "outputs": [
    {
     "name": "stdout",
     "output_type": "stream",
     "text": [
      "Hello Ali, Long time no see?\n",
      "Hello Obaid, Long time no see?\n",
      "Hello Rabi, Long time no see?\n",
      "Hello Uswa, Long time no see?\n"
     ]
    }
   ],
   "source": [
    "#Exercise 3-2: Greetings\n",
    "names: list =['Ali','Obaid','Rabi','Uswa']\n",
    "message = print(f\"Hello {names[0]}, Long time no see?\")\n",
    "print(f\"Hello {names[1]}, Long time no see?\")\n",
    "print(f\"Hello {names[2]}, Long time no see?\")\n",
    "print(f\"Hello {names[3]}, Long time no see?\")"
   ]
  },
  {
   "cell_type": "code",
   "execution_count": 8,
   "metadata": {},
   "outputs": [
    {
     "ename": "SyntaxError",
     "evalue": "invalid syntax (3558734948.py, line 2)",
     "output_type": "error",
     "traceback": [
      "\u001b[1;36m  Cell \u001b[1;32mIn[8], line 2\u001b[1;36m\u001b[0m\n\u001b[1;33m    transportation: =['Porsche 911 GT3','G Wagon','Audi e-tron','McLaren F1']\u001b[0m\n\u001b[1;37m                    ^\u001b[0m\n\u001b[1;31mSyntaxError\u001b[0m\u001b[1;31m:\u001b[0m invalid syntax\n"
     ]
    }
   ],
   "source": [
    "#Exercise 3-3: Your Own List\n",
    "transportation: list=['Porsche 911 GT3','G Wagon','Audi e-tron','McLaren F1']\n",
    "print('I would like to own a {transportation[0]}.')\n",
    "print('I would like to own a {transportation[1]}.')\n",
    "print('I would like to own a {transportation[2]}.')\n",
    "print('I would like to own a {transportation[3]}.')"
   ]
  }
 ],
 "metadata": {
  "kernelspec": {
   "display_name": "Python 3",
   "language": "python",
   "name": "python3"
  },
  "language_info": {
   "codemirror_mode": {
    "name": "ipython",
    "version": 3
   },
   "file_extension": ".py",
   "mimetype": "text/x-python",
   "name": "python",
   "nbconvert_exporter": "python",
   "pygments_lexer": "ipython3",
   "version": "3.12.4"
  }
 },
 "nbformat": 4,
 "nbformat_minor": 2
}
