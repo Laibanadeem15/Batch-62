{
 "cells": [
  {
   "cell_type": "code",
   "execution_count": 1,
   "metadata": {},
   "outputs": [
    {
     "name": "stdout",
     "output_type": "stream",
     "text": [
      "['Ali', 'Obaid', 'Rabi', 'Uswa']\n"
     ]
    }
   ],
   "source": [
    "#Exercise 3-1: Names\n",
    "names: list =['Ali','Obaid','Rabi','Uswa']\n",
    "print(names)"
   ]
  },
  {
   "cell_type": "code",
   "execution_count": 6,
   "metadata": {},
   "outputs": [
    {
     "name": "stdout",
     "output_type": "stream",
     "text": [
      "Hello Ali, Long time no see?\n",
      "Hello Obaid, Long time no see?\n",
      "Hello Rabi, Long time no see?\n",
      "Hello Uswa, Long time no see?\n"
     ]
    }
   ],
   "source": [
    "#Exercise 3-2: Greetings\n",
    "names: list =['Ali','Obaid','Rabi','Uswa']\n",
    "message = print(f\"Hello {names[0]}, Long time no see?\")\n",
    "print(f\"Hello {names[1]}, Long time no see?\")\n",
    "print(f\"Hello {names[2]}, Long time no see?\")\n",
    "print(f\"Hello {names[3]}, Long time no see?\")"
   ]
  },
  {
   "cell_type": "code",
   "execution_count": 11,
   "metadata": {},
   "outputs": [
    {
     "name": "stdout",
     "output_type": "stream",
     "text": [
      "I would like to own a Porsche 911 GT3.\n",
      "I would like to own a G Wagon.\n",
      "I would like to own a Audi e-tron.\n",
      "I would like to own a McLaren F1.\n"
     ]
    }
   ],
   "source": [
    "#Exercise 3-3: Your Own List\n",
    "transportation: list=['Porsche 911 GT3','G Wagon','Audi e-tron','McLaren F1']\n",
    "print(f\"I would like to own a {transportation[0]}.\")\n",
    "print(f\"I would like to own a {transportation[1]}.\")\n",
    "print(f\"I would like to own a {transportation[2]}.\")\n",
    "print(f\"I would like to own a {transportation[3]}.\")"
   ]
  },
  {
   "cell_type": "code",
   "execution_count": 14,
   "metadata": {},
   "outputs": [
    {
     "name": "stdout",
     "output_type": "stream",
     "text": [
      "It would be an honour to have you join us Emma Watson.\n",
      "We would be overjoyed to have you with us Diana Frances Spencer.\n",
      "We would be delighted to have you with us Tom Holland.\n"
     ]
    }
   ],
   "source": [
    "#Exercise 3-4: Guest List\n",
    "guests: list=['Emma Watson','Diana Frances Spencer','Tom Holland']\n",
    "print(f\"It would be an honour to have you join us {guests[0]}.\")\n",
    "print(f\"We would be overjoyed to have you with us {guests[1]}.\")\n",
    "print(f\"We would be delighted to have you with us {guests[2]}.\")"
   ]
  },
  {
   "cell_type": "code",
   "execution_count": 16,
   "metadata": {},
   "outputs": [
    {
     "name": "stdout",
     "output_type": "stream",
     "text": [
      "\n",
      " Unluckily,Tom Holland will not join us\n",
      "It would be an honour to have you join us Emma Watson.\n",
      "We would be overjoyed to have you with us Diana Frances Spencer.\n",
      "We would be delighted to have you with us Cillian Murphy.\n"
     ]
    }
   ],
   "source": [
    "#Exercise 3-5: Changing Guest List\n",
    "guests: list=['Emma Watson','Diana Frances Spencer','Tom Holland']\n",
    "guests[2]= 'Tom Holland'\n",
    "print(f\"\\n Unluckily,{guests[2]} will not join us\")\n",
    "\n",
    "#guest replacement\n",
    "guests[2]= 'Cillian Murphy'\n",
    "\n",
    "#updated list\n",
    "print(f\"It would be an honour to have you join us {guests[0]}.\")\n",
    "print(f\"We would be overjoyed to have you with us {guests[1]}.\")\n",
    "print(f\"We would be delighted to have you with us {guests[2]}.\")\n",
    "\n"
   ]
  },
  {
   "cell_type": "code",
   "execution_count": 17,
   "metadata": {},
   "outputs": [
    {
     "name": "stdout",
     "output_type": "stream",
     "text": [
      "/nI found a bigger table\n",
      "\n",
      " Updated list\n",
      "Dear ['Leonardo Decaprio', 'Emma Watson', 'Louis Tomlinson', 'Diana Frances Spencer', 'Tom Holland', 'Imran Khan'], I would be honored to have you join me for dinner.\n"
     ]
    }
   ],
   "source": [
    " #Exercise 3-6: More Guests\n",
    " guests: list=['Emma Watson','Diana Frances Spencer','Tom Holland']\n",
    " #bigger table\n",
    " print(f\"/nI found a bigger table\")\n",
    "\n",
    " #Adding new guests\n",
    " guests.insert(0,'Leonardo Decaprio')\n",
    " guests.insert(2,'Louis Tomlinson')\n",
    " guests.append('Imran Khan')\n",
    "\n",
    " #new invitation list\n",
    " print(f\"\\n Updated list\")\n",
    " print(f\"Dear {guests}, I would be honored to have you join me for dinner.\")\n",
    " \n",
    " "
   ]
  },
  {
   "cell_type": "code",
   "execution_count": 24,
   "metadata": {},
   "outputs": [
    {
     "name": "stdout",
     "output_type": "stream",
     "text": [
      "Dear Leonardo Decaprio, I would be honored to have you join me for dinner.\n",
      "Dear Emma Watson, I would be honored to have you join me for dinner.\n",
      "Dear Louis Tomlinson, I would be honored to have you join me for dinner.\n",
      "Dear Diana Frances Spencer, I would be honored to have you join me for dinner.\n",
      "Dear Tom Holland, I would be honored to have you join me for dinner.\n",
      "Dear Imran Khan, I would be honored to have you join me for dinner.\n",
      "\n",
      " I can invite only 2 persons\n",
      "Sorry Leonardo Decaprio, I can't invite you to dinner.\n",
      "Sorry Emma Watson, I can't invite you to dinner.\n",
      "Sorry Louis Tomlinson, I can't invite you to dinner.\n",
      "Sorry Diana Frances Spencer, I can't invite you to dinner.\n",
      "Dear Tom Holland, you are still in the list.\n",
      "Dear Imran Khan, you are still in the list.\n",
      "Guest list []\n"
     ]
    }
   ],
   "source": [
    "#Exercise 3-7: Shrinking Guest List\n",
    "\n",
    "guests: list =['Leonardo Decaprio', 'Emma Watson', 'Louis Tomlinson', 'Diana Frances Spencer', 'Tom Holland', 'Imran Khan']\n",
    "\n",
    "print(f\"Dear {guests[0]}, I would be honored to have you join me for dinner.\")\n",
    "print(f\"Dear {guests[1]}, I would be honored to have you join me for dinner.\")\n",
    "print(f\"Dear {guests[2]}, I would be honored to have you join me for dinner.\")\n",
    "print(f\"Dear {guests[3]}, I would be honored to have you join me for dinner.\")\n",
    "print(f\"Dear {guests[4]}, I would be honored to have you join me for dinner.\")\n",
    "print(f\"Dear {guests[5]}, I would be honored to have you join me for dinner.\")\n",
    "\n",
    "print(f\"\\n I can invite only 2 persons\")\n",
    "print(f\"Sorry {guests.pop(0)}, I can't invite you to dinner.\")\n",
    "print(f\"Sorry {guests.pop(0)}, I can't invite you to dinner.\")\n",
    "print(f\"Sorry {guests.pop(0)}, I can't invite you to dinner.\")\n",
    "print(f\"Sorry {guests.pop(0)}, I can't invite you to dinner.\")\n",
    "\n",
    "#still on list people\n",
    "print(f\"Dear {guests[0]}, you are still in the list.\")\n",
    "print(f\"Dear {guests[1]}, you are still in the list.\")\n",
    "\n",
    "#removing all from the list\n",
    "del guests[:]\n",
    "\n",
    "print(\"Guest list\",guests)\n",
    "\n"
   ]
  },
  {
   "cell_type": "code",
   "execution_count": 26,
   "metadata": {},
   "outputs": [
    {
     "name": "stdout",
     "output_type": "stream",
     "text": [
      "\n",
      " Original list\n",
      "['Turkey', 'Maldives', 'Italy', 'Japan', 'Germany']\n",
      "/n Alphabetical order of list\n",
      "['Germany', 'Italy', 'Japan', 'Maldives', 'Turkey']\n",
      "/n Original liat\n",
      "['Turkey', 'Maldives', 'Italy', 'Japan', 'Germany']\n",
      "\n",
      " Reverse Alphabetical order list\n",
      "['Turkey', 'Maldives', 'Japan', 'Italy', 'Germany']\n",
      "/n Original order\n",
      "['Turkey', 'Maldives', 'Italy', 'Japan', 'Germany']\n",
      "List after sort\n",
      "['Turkey', 'Maldives', 'Japan', 'Italy', 'Germany']\n"
     ]
    }
   ],
   "source": [
    "#Exercise 3-8: Seeing the World\n",
    "places: list=['Turkey','Maldives','Italy','Japan','Germany']\n",
    "\n",
    "#printing original list\n",
    "print(f\"\\n Original list\")\n",
    "print(places)\n",
    "\n",
    "#alphabetical order\n",
    "print(f\"/n Alphabetical order of list\")\n",
    "print(sorted(places))\n",
    "\n",
    "#original list\n",
    "print(f\"/n Original liat\")\n",
    "print(places)\n",
    "\n",
    "#reverse alphabetical order\n",
    "print(f\"\\n Reverse Alphabetical order list\")\n",
    "print(sorted(places, reverse=True))\n",
    "\n",
    "#original order\n",
    "print(f\"/n Original order\")\n",
    "print(places)\n",
    "places.reverse()\n",
    "places.sort()\n",
    "\n",
    "places.sort(reverse=True)\n",
    "print(f'List after sort')\n",
    "print(places)\n",
    "\n",
    "\n",
    "\n"
   ]
  },
  {
   "cell_type": "code",
   "execution_count": 6,
   "metadata": {},
   "outputs": [
    {
     "name": "stdout",
     "output_type": "stream",
     "text": [
      "\n",
      " Original list\n",
      "['Turkey', 'Maldives', 'Italy', 'Japan', 'Germany']\n",
      "\n",
      "Places after inserting\n",
      "['Turkey', 'Maldives', 'Egypt', 'Italy', 'Japan', 'Germany']\n",
      "\n",
      " Places after append\n",
      "['Turkey', 'Maldives', 'Egypt', 'Italy', 'Japan', 'Germany', 'Denmark']\n",
      "\n",
      "Places after sort\n",
      "['Denmark', 'Egypt', 'Germany', 'Italy', 'Japan', 'Maldives', 'Turkey']\n",
      "\n",
      " Places after reverse order\n",
      "['Turkey', 'Maldives', 'Japan', 'Italy', 'Germany', 'Egypt', 'Denmark']\n",
      "\n",
      "Places after remove\n",
      "['Turkey', 'Japan', 'Italy', 'Germany', 'Egypt', 'Denmark']\n",
      "\n",
      " Places after pop\n"
     ]
    },
    {
     "data": {
      "text/plain": [
       "'Italy'"
      ]
     },
     "execution_count": 6,
     "metadata": {},
     "output_type": "execute_result"
    }
   ],
   "source": [
    "# Exercise 3-9: Every Function\n",
    "places: list=['Turkey','Maldives','Italy','Japan','Germany']\n",
    "\n",
    "print(f\"\\n Original list\")\n",
    "print(places)\n",
    "\n",
    "print(f\"\\nPlaces after inserting\")\n",
    "places.insert(2,'Egypt')\n",
    "print(places)\n",
    "\n",
    "print(f\"\\n Places after append\")\n",
    "places.append('Denmark')\n",
    "print(places)\n",
    "\n",
    "print(f\"\\nPlaces after sort\")\n",
    "places.sort()\n",
    "print(places)\n",
    "\n",
    "print(f\"\\n Places after reverse order\")\n",
    "places.sort(reverse=True)\n",
    "print(places)\n",
    "\n",
    " \n",
    "print(f\"\\nPlaces after remove\")\n",
    "places.remove('Maldives')\n",
    "print(places)\n",
    "\n",
    "print(f\"\\n Places after pop\")\n",
    "places.pop(2)\n",
    "\n"
   ]
  },
  {
   "cell_type": "code",
   "execution_count": 50,
   "metadata": {},
   "outputs": [
    {
     "name": "stdout",
     "output_type": "stream",
     "text": [
      "\n",
      " Original list ['Turkey', 'Maldives', 'Italy', 'Japan', 'Germany']\n",
      "I want to go {places[9]} someday\n",
      "\n",
      " I want to go Italy someday\n"
     ]
    }
   ],
   "source": [
    "#Exercise 3-10: Intentional Error\n",
    "places: list=['Turkey','Maldives','Italy','Japan','Germany']\n",
    "print(f\"\\n Original list\",places)\n",
    "\n",
    "print(\"I want to go {places[9]} someday\")\n",
    "\n",
    "print(f\"\\n I want to go {places[2]} someday\")\n"
   ]
  },
  {
   "cell_type": "code",
   "execution_count": 13,
   "metadata": {},
   "outputs": [
    {
     "data": {
      "text/plain": [
       "'Turkey'"
      ]
     },
     "execution_count": 13,
     "metadata": {},
     "output_type": "execute_result"
    }
   ],
   "source": [
    "places: list=['Turkey','Maldives','Italy','Japan','Germany']\n",
    "places.pop(0)"
   ]
  },
  {
   "cell_type": "code",
   "execution_count": null,
   "metadata": {},
   "outputs": [],
   "source": []
  }
 ],
 "metadata": {
  "kernelspec": {
   "display_name": "Python 3",
   "language": "python",
   "name": "python3"
  },
  "language_info": {
   "codemirror_mode": {
    "name": "ipython",
    "version": 3
   },
   "file_extension": ".py",
   "mimetype": "text/x-python",
   "name": "python",
   "nbconvert_exporter": "python",
   "pygments_lexer": "ipython3",
   "version": "3.12.4"
  }
 },
 "nbformat": 4,
 "nbformat_minor": 2
}
